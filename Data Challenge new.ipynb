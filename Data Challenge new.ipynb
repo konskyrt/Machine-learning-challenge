{
 "cells": [
  {
   "cell_type": "code",
   "execution_count": 1,
   "metadata": {
    "collapsed": true
   },
   "outputs": [],
   "source": [
    "#--------------------------must have---------------------------\n",
    "import numpy as np\n",
    "import pandas as pd\n",
    "import random\n",
    "\n",
    "#----------------------plotting libraries----------------------\n",
    "import scikitplot as skplt\n",
    "import seaborn as sns\n",
    "import matplotlib.pyplot as plt\n",
    "\n",
    "plt.rcParams[\"figure.figsize\"] = (8, 8) #Change matplotlib Box Size\n",
    "plt.rcParams[\"font.size\"] = 14 #Change matplotlib Font Size\n",
    "\n",
    "#----------------------sklearn libraries-----------------------\n",
    "from sklearn import preprocessing\n",
    "from sklearn.pipeline import Pipeline\n",
    "from sklearn.feature_selection import SelectKBest, f_classif\n",
    "from sklearn.model_selection import train_test_split, GridSearchCV, RandomizedSearchCV, StratifiedKFold, cross_val_score\n",
    "from sklearn.metrics import classification_report, confusion_matrix, accuracy_score\n",
    "from sklearn.ensemble import RandomForestClassifier, AdaBoostClassifier\n",
    "\n",
    "#---------------------------others------------------------------\n",
    "from xgboost import XGBClassifier\n",
    "from bayes_opt import BayesianOptimization"
   ]
  },
  {
   "cell_type": "code",
   "execution_count": 2,
   "metadata": {},
   "outputs": [
    {
     "name": "stdout",
     "output_type": "stream",
     "text": [
      "(20000, 121)\n"
     ]
    },
    {
     "data": {
      "text/html": [
       "<div>\n",
       "<style scoped>\n",
       "    .dataframe tbody tr th:only-of-type {\n",
       "        vertical-align: middle;\n",
       "    }\n",
       "\n",
       "    .dataframe tbody tr th {\n",
       "        vertical-align: top;\n",
       "    }\n",
       "\n",
       "    .dataframe thead th {\n",
       "        text-align: right;\n",
       "    }\n",
       "</style>\n",
       "<table border=\"1\" class=\"dataframe\">\n",
       "  <thead>\n",
       "    <tr style=\"text-align: right;\">\n",
       "      <th></th>\n",
       "      <th>Id</th>\n",
       "      <th>0</th>\n",
       "      <th>1</th>\n",
       "      <th>2</th>\n",
       "      <th>3</th>\n",
       "      <th>4</th>\n",
       "      <th>5</th>\n",
       "      <th>6</th>\n",
       "      <th>7</th>\n",
       "      <th>8</th>\n",
       "      <th>...</th>\n",
       "      <th>110</th>\n",
       "      <th>111</th>\n",
       "      <th>112</th>\n",
       "      <th>113</th>\n",
       "      <th>114</th>\n",
       "      <th>115</th>\n",
       "      <th>116</th>\n",
       "      <th>117</th>\n",
       "      <th>118</th>\n",
       "      <th>119</th>\n",
       "    </tr>\n",
       "  </thead>\n",
       "  <tbody>\n",
       "    <tr>\n",
       "      <th>0</th>\n",
       "      <td>0</td>\n",
       "      <td>0.242392</td>\n",
       "      <td>0.524801</td>\n",
       "      <td>9.531945</td>\n",
       "      <td>0.551043</td>\n",
       "      <td>0.853324</td>\n",
       "      <td>2.084798</td>\n",
       "      <td>-23.881055</td>\n",
       "      <td>1.752809</td>\n",
       "      <td>4.019658</td>\n",
       "      <td>...</td>\n",
       "      <td>0.996646</td>\n",
       "      <td>0.464636</td>\n",
       "      <td>0.927718</td>\n",
       "      <td>2.136614</td>\n",
       "      <td>-0.625167</td>\n",
       "      <td>11.164489</td>\n",
       "      <td>12.651970</td>\n",
       "      <td>3.191951</td>\n",
       "      <td>0.770754</td>\n",
       "      <td>11.564876</td>\n",
       "    </tr>\n",
       "    <tr>\n",
       "      <th>1</th>\n",
       "      <td>1</td>\n",
       "      <td>0.197594</td>\n",
       "      <td>1.029150</td>\n",
       "      <td>13.064256</td>\n",
       "      <td>2.697584</td>\n",
       "      <td>0.032053</td>\n",
       "      <td>0.555707</td>\n",
       "      <td>-47.774112</td>\n",
       "      <td>0.211458</td>\n",
       "      <td>-5.489373</td>\n",
       "      <td>...</td>\n",
       "      <td>16.166253</td>\n",
       "      <td>0.074028</td>\n",
       "      <td>0.114691</td>\n",
       "      <td>0.700676</td>\n",
       "      <td>0.909923</td>\n",
       "      <td>-12.253487</td>\n",
       "      <td>-0.839493</td>\n",
       "      <td>3.405661</td>\n",
       "      <td>0.772885</td>\n",
       "      <td>2.602072</td>\n",
       "    </tr>\n",
       "    <tr>\n",
       "      <th>2</th>\n",
       "      <td>2</td>\n",
       "      <td>0.676448</td>\n",
       "      <td>0.250171</td>\n",
       "      <td>10.370677</td>\n",
       "      <td>1.255717</td>\n",
       "      <td>0.028614</td>\n",
       "      <td>1.916394</td>\n",
       "      <td>65.747722</td>\n",
       "      <td>1.791534</td>\n",
       "      <td>-10.868221</td>\n",
       "      <td>...</td>\n",
       "      <td>1.382589</td>\n",
       "      <td>0.527797</td>\n",
       "      <td>0.818678</td>\n",
       "      <td>0.780533</td>\n",
       "      <td>1.833105</td>\n",
       "      <td>9.943211</td>\n",
       "      <td>-11.567759</td>\n",
       "      <td>0.387331</td>\n",
       "      <td>0.345355</td>\n",
       "      <td>0.274009</td>\n",
       "    </tr>\n",
       "    <tr>\n",
       "      <th>3</th>\n",
       "      <td>3</td>\n",
       "      <td>1.561018</td>\n",
       "      <td>0.617100</td>\n",
       "      <td>0.379516</td>\n",
       "      <td>1.515827</td>\n",
       "      <td>0.005581</td>\n",
       "      <td>0.002844</td>\n",
       "      <td>-11.036037</td>\n",
       "      <td>0.154748</td>\n",
       "      <td>17.727657</td>\n",
       "      <td>...</td>\n",
       "      <td>3.028235</td>\n",
       "      <td>0.664532</td>\n",
       "      <td>0.124984</td>\n",
       "      <td>0.438145</td>\n",
       "      <td>0.562478</td>\n",
       "      <td>1.999034</td>\n",
       "      <td>-3.481156</td>\n",
       "      <td>0.374161</td>\n",
       "      <td>0.657491</td>\n",
       "      <td>0.944878</td>\n",
       "    </tr>\n",
       "    <tr>\n",
       "      <th>4</th>\n",
       "      <td>4</td>\n",
       "      <td>0.403669</td>\n",
       "      <td>6.981975</td>\n",
       "      <td>0.535448</td>\n",
       "      <td>0.654590</td>\n",
       "      <td>0.670791</td>\n",
       "      <td>2.377098</td>\n",
       "      <td>8.185199</td>\n",
       "      <td>0.703429</td>\n",
       "      <td>5.420341</td>\n",
       "      <td>...</td>\n",
       "      <td>2.218101</td>\n",
       "      <td>0.228779</td>\n",
       "      <td>0.156150</td>\n",
       "      <td>1.444829</td>\n",
       "      <td>0.905621</td>\n",
       "      <td>4.061059</td>\n",
       "      <td>3.467491</td>\n",
       "      <td>0.339719</td>\n",
       "      <td>0.411329</td>\n",
       "      <td>0.382129</td>\n",
       "    </tr>\n",
       "  </tbody>\n",
       "</table>\n",
       "<p>5 rows × 121 columns</p>\n",
       "</div>"
      ],
      "text/plain": [
       "   Id         0         1          2         3         4         5          6  \\\n",
       "0   0  0.242392  0.524801   9.531945  0.551043  0.853324  2.084798 -23.881055   \n",
       "1   1  0.197594  1.029150  13.064256  2.697584  0.032053  0.555707 -47.774112   \n",
       "2   2  0.676448  0.250171  10.370677  1.255717  0.028614  1.916394  65.747722   \n",
       "3   3  1.561018  0.617100   0.379516  1.515827  0.005581  0.002844 -11.036037   \n",
       "4   4  0.403669  6.981975   0.535448  0.654590  0.670791  2.377098   8.185199   \n",
       "\n",
       "          7          8  ...        110       111       112       113  \\\n",
       "0  1.752809   4.019658  ...   0.996646  0.464636  0.927718  2.136614   \n",
       "1  0.211458  -5.489373  ...  16.166253  0.074028  0.114691  0.700676   \n",
       "2  1.791534 -10.868221  ...   1.382589  0.527797  0.818678  0.780533   \n",
       "3  0.154748  17.727657  ...   3.028235  0.664532  0.124984  0.438145   \n",
       "4  0.703429   5.420341  ...   2.218101  0.228779  0.156150  1.444829   \n",
       "\n",
       "        114        115        116       117       118        119  \n",
       "0 -0.625167  11.164489  12.651970  3.191951  0.770754  11.564876  \n",
       "1  0.909923 -12.253487  -0.839493  3.405661  0.772885   2.602072  \n",
       "2  1.833105   9.943211 -11.567759  0.387331  0.345355   0.274009  \n",
       "3  0.562478   1.999034  -3.481156  0.374161  0.657491   0.944878  \n",
       "4  0.905621   4.061059   3.467491  0.339719  0.411329   0.382129  \n",
       "\n",
       "[5 rows x 121 columns]"
      ]
     },
     "execution_count": 2,
     "metadata": {},
     "output_type": "execute_result"
    }
   ],
   "source": [
    "Features_test = pd.read_csv('features_test.csv', delimiter=',')\n",
    "print(Features_test.shape)\n",
    "Features_test.head()"
   ]
  },
  {
   "cell_type": "code",
   "execution_count": 3,
   "metadata": {
    "collapsed": true
   },
   "outputs": [],
   "source": [
    "#X_test = X_test.drop([\"Id\"], 1)"
   ]
  },
  {
   "cell_type": "code",
   "execution_count": 4,
   "metadata": {},
   "outputs": [
    {
     "name": "stdout",
     "output_type": "stream",
     "text": [
      "(10000, 121)\n"
     ]
    },
    {
     "data": {
      "text/html": [
       "<div>\n",
       "<style scoped>\n",
       "    .dataframe tbody tr th:only-of-type {\n",
       "        vertical-align: middle;\n",
       "    }\n",
       "\n",
       "    .dataframe tbody tr th {\n",
       "        vertical-align: top;\n",
       "    }\n",
       "\n",
       "    .dataframe thead th {\n",
       "        text-align: right;\n",
       "    }\n",
       "</style>\n",
       "<table border=\"1\" class=\"dataframe\">\n",
       "  <thead>\n",
       "    <tr style=\"text-align: right;\">\n",
       "      <th></th>\n",
       "      <th>Id</th>\n",
       "      <th>0</th>\n",
       "      <th>1</th>\n",
       "      <th>2</th>\n",
       "      <th>3</th>\n",
       "      <th>4</th>\n",
       "      <th>5</th>\n",
       "      <th>6</th>\n",
       "      <th>7</th>\n",
       "      <th>8</th>\n",
       "      <th>...</th>\n",
       "      <th>110</th>\n",
       "      <th>111</th>\n",
       "      <th>112</th>\n",
       "      <th>113</th>\n",
       "      <th>114</th>\n",
       "      <th>115</th>\n",
       "      <th>116</th>\n",
       "      <th>117</th>\n",
       "      <th>118</th>\n",
       "      <th>119</th>\n",
       "    </tr>\n",
       "  </thead>\n",
       "  <tbody>\n",
       "    <tr>\n",
       "      <th>0</th>\n",
       "      <td>0</td>\n",
       "      <td>2.311705</td>\n",
       "      <td>0.445665</td>\n",
       "      <td>7.020637</td>\n",
       "      <td>1.582505</td>\n",
       "      <td>3.010977</td>\n",
       "      <td>1.375501</td>\n",
       "      <td>29.897623</td>\n",
       "      <td>2.886738</td>\n",
       "      <td>-8.641869</td>\n",
       "      <td>...</td>\n",
       "      <td>0.642797</td>\n",
       "      <td>0.706869</td>\n",
       "      <td>0.997519</td>\n",
       "      <td>1.270321</td>\n",
       "      <td>0.109460</td>\n",
       "      <td>2.829606</td>\n",
       "      <td>-8.292344</td>\n",
       "      <td>1.423754</td>\n",
       "      <td>0.090224</td>\n",
       "      <td>2.006436</td>\n",
       "    </tr>\n",
       "    <tr>\n",
       "      <th>1</th>\n",
       "      <td>1</td>\n",
       "      <td>0.580430</td>\n",
       "      <td>0.200428</td>\n",
       "      <td>22.176950</td>\n",
       "      <td>0.479475</td>\n",
       "      <td>0.173418</td>\n",
       "      <td>0.106690</td>\n",
       "      <td>-28.162402</td>\n",
       "      <td>5.388960</td>\n",
       "      <td>-9.188298</td>\n",
       "      <td>...</td>\n",
       "      <td>1.966491</td>\n",
       "      <td>0.330869</td>\n",
       "      <td>0.449754</td>\n",
       "      <td>0.257662</td>\n",
       "      <td>-1.131653</td>\n",
       "      <td>-0.908362</td>\n",
       "      <td>20.468617</td>\n",
       "      <td>1.146844</td>\n",
       "      <td>0.142068</td>\n",
       "      <td>0.373541</td>\n",
       "    </tr>\n",
       "    <tr>\n",
       "      <th>2</th>\n",
       "      <td>2</td>\n",
       "      <td>0.042687</td>\n",
       "      <td>0.641976</td>\n",
       "      <td>1.663984</td>\n",
       "      <td>0.998398</td>\n",
       "      <td>1.262488</td>\n",
       "      <td>0.784453</td>\n",
       "      <td>-22.016388</td>\n",
       "      <td>1.512673</td>\n",
       "      <td>-3.526049</td>\n",
       "      <td>...</td>\n",
       "      <td>0.897811</td>\n",
       "      <td>0.610529</td>\n",
       "      <td>0.158270</td>\n",
       "      <td>5.695307</td>\n",
       "      <td>0.358590</td>\n",
       "      <td>-8.164399</td>\n",
       "      <td>0.596139</td>\n",
       "      <td>0.522287</td>\n",
       "      <td>0.832107</td>\n",
       "      <td>4.264087</td>\n",
       "    </tr>\n",
       "    <tr>\n",
       "      <th>3</th>\n",
       "      <td>3</td>\n",
       "      <td>0.060388</td>\n",
       "      <td>1.408700</td>\n",
       "      <td>92.827212</td>\n",
       "      <td>2.691115</td>\n",
       "      <td>0.645211</td>\n",
       "      <td>0.710104</td>\n",
       "      <td>12.132919</td>\n",
       "      <td>1.606096</td>\n",
       "      <td>-0.782570</td>\n",
       "      <td>...</td>\n",
       "      <td>1.375550</td>\n",
       "      <td>0.708163</td>\n",
       "      <td>0.537862</td>\n",
       "      <td>1.357389</td>\n",
       "      <td>-1.659754</td>\n",
       "      <td>-1.105801</td>\n",
       "      <td>-6.426477</td>\n",
       "      <td>0.404628</td>\n",
       "      <td>0.452828</td>\n",
       "      <td>1.106436</td>\n",
       "    </tr>\n",
       "    <tr>\n",
       "      <th>4</th>\n",
       "      <td>4</td>\n",
       "      <td>1.045148</td>\n",
       "      <td>0.704313</td>\n",
       "      <td>4.823582</td>\n",
       "      <td>0.546102</td>\n",
       "      <td>0.397827</td>\n",
       "      <td>0.606078</td>\n",
       "      <td>-11.135888</td>\n",
       "      <td>0.639788</td>\n",
       "      <td>-9.182691</td>\n",
       "      <td>...</td>\n",
       "      <td>10.556016</td>\n",
       "      <td>0.225400</td>\n",
       "      <td>0.672425</td>\n",
       "      <td>0.257381</td>\n",
       "      <td>-0.435355</td>\n",
       "      <td>7.744958</td>\n",
       "      <td>10.908781</td>\n",
       "      <td>4.413541</td>\n",
       "      <td>0.782079</td>\n",
       "      <td>0.279165</td>\n",
       "    </tr>\n",
       "  </tbody>\n",
       "</table>\n",
       "<p>5 rows × 121 columns</p>\n",
       "</div>"
      ],
      "text/plain": [
       "   Id         0         1          2         3         4         5          6  \\\n",
       "0   0  2.311705  0.445665   7.020637  1.582505  3.010977  1.375501  29.897623   \n",
       "1   1  0.580430  0.200428  22.176950  0.479475  0.173418  0.106690 -28.162402   \n",
       "2   2  0.042687  0.641976   1.663984  0.998398  1.262488  0.784453 -22.016388   \n",
       "3   3  0.060388  1.408700  92.827212  2.691115  0.645211  0.710104  12.132919   \n",
       "4   4  1.045148  0.704313   4.823582  0.546102  0.397827  0.606078 -11.135888   \n",
       "\n",
       "          7         8  ...        110       111       112       113       114  \\\n",
       "0  2.886738 -8.641869  ...   0.642797  0.706869  0.997519  1.270321  0.109460   \n",
       "1  5.388960 -9.188298  ...   1.966491  0.330869  0.449754  0.257662 -1.131653   \n",
       "2  1.512673 -3.526049  ...   0.897811  0.610529  0.158270  5.695307  0.358590   \n",
       "3  1.606096 -0.782570  ...   1.375550  0.708163  0.537862  1.357389 -1.659754   \n",
       "4  0.639788 -9.182691  ...  10.556016  0.225400  0.672425  0.257381 -0.435355   \n",
       "\n",
       "        115        116       117       118       119  \n",
       "0  2.829606  -8.292344  1.423754  0.090224  2.006436  \n",
       "1 -0.908362  20.468617  1.146844  0.142068  0.373541  \n",
       "2 -8.164399   0.596139  0.522287  0.832107  4.264087  \n",
       "3 -1.105801  -6.426477  0.404628  0.452828  1.106436  \n",
       "4  7.744958  10.908781  4.413541  0.782079  0.279165  \n",
       "\n",
       "[5 rows x 121 columns]"
      ]
     },
     "execution_count": 4,
     "metadata": {},
     "output_type": "execute_result"
    }
   ],
   "source": [
    "X = pd.read_csv('features_train.csv', delimiter=',')\n",
    "print(X.shape)\n",
    "X.head()\n"
   ]
  },
  {
   "cell_type": "code",
   "execution_count": 5,
   "metadata": {
    "collapsed": true
   },
   "outputs": [],
   "source": [
    "X = X.drop([\"Id\", \"81\", \"112\", \"113\", \"119\"], 1)"
   ]
  },
  {
   "cell_type": "code",
   "execution_count": 6,
   "metadata": {},
   "outputs": [
    {
     "name": "stdout",
     "output_type": "stream",
     "text": [
      "(10000, 2)\n"
     ]
    },
    {
     "data": {
      "text/html": [
       "<div>\n",
       "<style scoped>\n",
       "    .dataframe tbody tr th:only-of-type {\n",
       "        vertical-align: middle;\n",
       "    }\n",
       "\n",
       "    .dataframe tbody tr th {\n",
       "        vertical-align: top;\n",
       "    }\n",
       "\n",
       "    .dataframe thead th {\n",
       "        text-align: right;\n",
       "    }\n",
       "</style>\n",
       "<table border=\"1\" class=\"dataframe\">\n",
       "  <thead>\n",
       "    <tr style=\"text-align: right;\">\n",
       "      <th></th>\n",
       "      <th>Id</th>\n",
       "      <th>Expected</th>\n",
       "    </tr>\n",
       "  </thead>\n",
       "  <tbody>\n",
       "    <tr>\n",
       "      <th>0</th>\n",
       "      <td>0</td>\n",
       "      <td>0</td>\n",
       "    </tr>\n",
       "    <tr>\n",
       "      <th>1</th>\n",
       "      <td>1</td>\n",
       "      <td>0</td>\n",
       "    </tr>\n",
       "    <tr>\n",
       "      <th>2</th>\n",
       "      <td>2</td>\n",
       "      <td>2</td>\n",
       "    </tr>\n",
       "    <tr>\n",
       "      <th>3</th>\n",
       "      <td>3</td>\n",
       "      <td>1</td>\n",
       "    </tr>\n",
       "    <tr>\n",
       "      <th>4</th>\n",
       "      <td>4</td>\n",
       "      <td>2</td>\n",
       "    </tr>\n",
       "  </tbody>\n",
       "</table>\n",
       "</div>"
      ],
      "text/plain": [
       "   Id  Expected\n",
       "0   0         0\n",
       "1   1         0\n",
       "2   2         2\n",
       "3   3         1\n",
       "4   4         2"
      ]
     },
     "execution_count": 6,
     "metadata": {},
     "output_type": "execute_result"
    }
   ],
   "source": [
    "y = pd.read_csv('target_train.csv', delimiter=',')\n",
    "print(y.shape)\n",
    "y.head()\n"
   ]
  },
  {
   "cell_type": "code",
   "execution_count": 7,
   "metadata": {
    "collapsed": true
   },
   "outputs": [],
   "source": [
    "y = y.drop([\"Id\"], 1)"
   ]
  },
  {
   "cell_type": "code",
   "execution_count": 8,
   "metadata": {},
   "outputs": [
    {
     "name": "stdout",
     "output_type": "stream",
     "text": [
      "(10000, 1)\n"
     ]
    }
   ],
   "source": [
    "print(y.shape)\n"
   ]
  },
  {
   "cell_type": "code",
   "execution_count": 9,
   "metadata": {},
   "outputs": [
    {
     "data": {
      "text/plain": [
       "(10000, 1)"
      ]
     },
     "execution_count": 9,
     "metadata": {},
     "output_type": "execute_result"
    }
   ],
   "source": [
    "y.shape\n"
   ]
  },
  {
   "cell_type": "code",
   "execution_count": 10,
   "metadata": {},
   "outputs": [
    {
     "data": {
      "text/plain": [
       "[0      0\n",
       " 1      0\n",
       " 2      0\n",
       " 3      0\n",
       " 4      0\n",
       "       ..\n",
       " 114    0\n",
       " 115    0\n",
       " 116    0\n",
       " 117    0\n",
       " 118    0\n",
       " Length: 116, dtype: int64]"
      ]
     },
     "execution_count": 10,
     "metadata": {},
     "output_type": "execute_result"
    }
   ],
   "source": [
    "[X.isna().sum()]"
   ]
  },
  {
   "cell_type": "code",
   "execution_count": 11,
   "metadata": {
    "collapsed": true
   },
   "outputs": [],
   "source": [
    "#data = data.drop_duplicates(inplace=True)"
   ]
  },
  {
   "cell_type": "code",
   "execution_count": 12,
   "metadata": {},
   "outputs": [
    {
     "name": "stdout",
     "output_type": "stream",
     "text": [
      "Training set has 8000 samples.\n",
      "Testing set has 2000 samples.\n"
     ]
    }
   ],
   "source": [
    "X_train, X_test, y_train, y_test = train_test_split(X, y, test_size=0.2 , random_state=0)\n",
    "\n",
    "print(\"Training set has {} samples.\".format(X_train.shape[0]))\n",
    "print(\"Testing set has {} samples.\".format(X_test.shape[0]))"
   ]
  },
  {
   "cell_type": "code",
   "execution_count": 13,
   "metadata": {
    "collapsed": true
   },
   "outputs": [],
   "source": [
    "#f,ax = plt.subplots(figsize=(20, 20))\n",
    "#sns.heatmap(data.corr(), annot=True, linewidths=.5, fmt= '.1f',ax=ax, cmap = 'coolwarm')\n",
    "#None"
   ]
  },
  {
   "cell_type": "code",
   "execution_count": 15,
   "metadata": {
    "collapsed": true
   },
   "outputs": [],
   "source": [
    "#X1 = X.iloc[:, 1:20]\n"
   ]
  },
  {
   "cell_type": "code",
   "execution_count": 14,
   "metadata": {},
   "outputs": [
    {
     "data": {
      "text/plain": [
       "\"\\nf,ax = plt.subplots(figsize=(20, 20))\\nsns.heatmap(X1.corr(), annot=True, linewidths=.5, fmt= '.1f',ax=ax, cmap = 'coolwarm')\\nNone\\n\""
      ]
     },
     "execution_count": 14,
     "metadata": {},
     "output_type": "execute_result"
    }
   ],
   "source": [
    "'''\n",
    "f,ax = plt.subplots(figsize=(20, 20))\n",
    "sns.heatmap(X1.corr(), annot=True, linewidths=.5, fmt= '.1f',ax=ax, cmap = 'coolwarm')\n",
    "None\n",
    "'''"
   ]
  },
  {
   "cell_type": "code",
   "execution_count": 20,
   "metadata": {
    "collapsed": true
   },
   "outputs": [],
   "source": [
    "model_accuracy = {}\n",
    "\n",
    "def model_evaluation(model_name,predictions):\n",
    "    \n",
    "    print(classification_report(y_test, predictions))\n",
    "    print('----------------------------------------------------------')\n",
    "    print(confusion_matrix(y_test, predictions))\n",
    "    print('----------------------------------------------------------')\n",
    "    skplt.metrics.plot_confusion_matrix(y_test, predictions, normalize=True)\n",
    "    accuracy = accuracy_score(y_test, predictions)\n",
    "    print(\"Accuracy: %.2f%%\" % (accuracy * 100.0))\n",
    "    print('----------------------------------------------------------')\n",
    "    \n",
    "    model_accuracy[model_name] = accuracy"
   ]
  },
  {
   "cell_type": "code",
   "execution_count": 19,
   "metadata": {
    "collapsed": true
   },
   "outputs": [],
   "source": [
    "rfc = RandomForestClassifier(n_jobs = -1)\n",
    "rfc.fit(X_train, y_train.values.ravel())\n",
    "rfc_predictions = rfc.predict(X_test)"
   ]
  },
  {
   "cell_type": "code",
   "execution_count": 21,
   "metadata": {},
   "outputs": [
    {
     "name": "stdout",
     "output_type": "stream",
     "text": [
      "              precision    recall  f1-score   support\n",
      "\n",
      "           0       0.52      0.55      0.54       665\n",
      "           1       0.53      0.58      0.55       627\n",
      "           2       0.54      0.46      0.50       708\n",
      "\n",
      "    accuracy                           0.53      2000\n",
      "   macro avg       0.53      0.53      0.53      2000\n",
      "weighted avg       0.53      0.53      0.53      2000\n",
      "\n",
      "----------------------------------------------------------\n",
      "[[367 145 153]\n",
      " [135 361 131]\n",
      " [204 175 329]]\n",
      "----------------------------------------------------------\n",
      "Accuracy: 52.85%\n",
      "----------------------------------------------------------\n"
     ]
    },
    {
     "data": {
      "image/png": "[encoded data removed]",
      "text/plain": [
       "<Figure size 576x576 with 2 Axes>"
      ]
     },
     "metadata": {
      "needs_background": "light"
     },
     "output_type": "display_data"
    }
   ],
   "source": [
    "model_evaluation('rfc', rfc_predictions)"
   ]
  },
  {
   "cell_type": "code",
   "execution_count": 28,
   "metadata": {},
   "outputs": [
    {
     "data": {
      "text/plain": [
       "<matplotlib.axes._subplots.AxesSubplot at 0x11fb81400>"
      ]
     },
     "execution_count": 28,
     "metadata": {},
     "output_type": "execute_result"
    },
    {
     "data": {
      "image/png": "[encoded data removed]",
      "text/plain": [
       "<Figure size 576x576 with 1 Axes>"
      ]
     },
     "metadata": {
      "needs_background": "light"
     },
     "output_type": "display_data"
    }
   ],
   "source": [
    "rfc_importances = pd.DataFrame({\"feature\": X_train.columns, \"importance\": np.round(rfc.feature_importances_, 3)})\n",
    "rfc_importances = rfc_importances.sort_values(\"importance\", ascending=False).set_index(\"feature\")\n",
    "rfc_importances.plot(kind='barh')"
   ]
  },
  {
   "cell_type": "code",
   "execution_count": 29,
   "metadata": {},
   "outputs": [
    {
     "data": {
      "text/html": [
       "<div>\n",
       "<style scoped>\n",
       "    .dataframe tbody tr th:only-of-type {\n",
       "        vertical-align: middle;\n",
       "    }\n",
       "\n",
       "    .dataframe tbody tr th {\n",
       "        vertical-align: top;\n",
       "    }\n",
       "\n",
       "    .dataframe thead th {\n",
       "        text-align: right;\n",
       "    }\n",
       "</style>\n",
       "<table border=\"1\" class=\"dataframe\">\n",
       "  <thead>\n",
       "    <tr style=\"text-align: right;\">\n",
       "      <th></th>\n",
       "      <th>importance</th>\n",
       "    </tr>\n",
       "    <tr>\n",
       "      <th>feature</th>\n",
       "      <th></th>\n",
       "    </tr>\n",
       "  </thead>\n",
       "  <tbody>\n",
       "    <tr>\n",
       "      <th>98</th>\n",
       "      <td>0.027</td>\n",
       "    </tr>\n",
       "    <tr>\n",
       "      <th>11</th>\n",
       "      <td>0.022</td>\n",
       "    </tr>\n",
       "    <tr>\n",
       "      <th>24</th>\n",
       "      <td>0.020</td>\n",
       "    </tr>\n",
       "    <tr>\n",
       "      <th>60</th>\n",
       "      <td>0.015</td>\n",
       "    </tr>\n",
       "    <tr>\n",
       "      <th>50</th>\n",
       "      <td>0.015</td>\n",
       "    </tr>\n",
       "    <tr>\n",
       "      <th>...</th>\n",
       "      <td>...</td>\n",
       "    </tr>\n",
       "    <tr>\n",
       "      <th>45</th>\n",
       "      <td>0.007</td>\n",
       "    </tr>\n",
       "    <tr>\n",
       "      <th>44</th>\n",
       "      <td>0.007</td>\n",
       "    </tr>\n",
       "    <tr>\n",
       "      <th>41</th>\n",
       "      <td>0.007</td>\n",
       "    </tr>\n",
       "    <tr>\n",
       "      <th>119</th>\n",
       "      <td>0.007</td>\n",
       "    </tr>\n",
       "    <tr>\n",
       "      <th>78</th>\n",
       "      <td>0.006</td>\n",
       "    </tr>\n",
       "  </tbody>\n",
       "</table>\n",
       "<p>120 rows × 1 columns</p>\n",
       "</div>"
      ],
      "text/plain": [
       "         importance\n",
       "feature            \n",
       "98            0.027\n",
       "11            0.022\n",
       "24            0.020\n",
       "60            0.015\n",
       "50            0.015\n",
       "...             ...\n",
       "45            0.007\n",
       "44            0.007\n",
       "41            0.007\n",
       "119           0.007\n",
       "78            0.006\n",
       "\n",
       "[120 rows x 1 columns]"
      ]
     },
     "execution_count": 29,
     "metadata": {},
     "output_type": "execute_result"
    }
   ],
   "source": [
    "rfc_importances"
   ]
  },
  {
   "cell_type": "code",
   "execution_count": 32,
   "metadata": {
    "collapsed": true
   },
   "outputs": [],
   "source": [
    "rfc_importances_top20 = rfc_importances.iloc[0:20]"
   ]
  },
  {
   "cell_type": "code",
   "execution_count": null,
   "metadata": {
    "collapsed": true
   },
   "outputs": [],
   "source": [
    "random_search"
   ]
  },
  {
   "cell_type": "code",
   "execution_count": 35,
   "metadata": {},
   "outputs": [
    {
     "data": {
      "text/html": [
       "<div>\n",
       "<style scoped>\n",
       "    .dataframe tbody tr th:only-of-type {\n",
       "        vertical-align: middle;\n",
       "    }\n",
       "\n",
       "    .dataframe tbody tr th {\n",
       "        vertical-align: top;\n",
       "    }\n",
       "\n",
       "    .dataframe thead th {\n",
       "        text-align: right;\n",
       "    }\n",
       "</style>\n",
       "<table border=\"1\" class=\"dataframe\">\n",
       "  <thead>\n",
       "    <tr style=\"text-align: right;\">\n",
       "      <th></th>\n",
       "      <th>importance</th>\n",
       "    </tr>\n",
       "    <tr>\n",
       "      <th>feature</th>\n",
       "      <th></th>\n",
       "    </tr>\n",
       "  </thead>\n",
       "  <tbody>\n",
       "    <tr>\n",
       "      <th>98</th>\n",
       "      <td>0.027</td>\n",
       "    </tr>\n",
       "    <tr>\n",
       "      <th>11</th>\n",
       "      <td>0.022</td>\n",
       "    </tr>\n",
       "    <tr>\n",
       "      <th>24</th>\n",
       "      <td>0.020</td>\n",
       "    </tr>\n",
       "    <tr>\n",
       "      <th>60</th>\n",
       "      <td>0.015</td>\n",
       "    </tr>\n",
       "    <tr>\n",
       "      <th>50</th>\n",
       "      <td>0.015</td>\n",
       "    </tr>\n",
       "    <tr>\n",
       "      <th>20</th>\n",
       "      <td>0.015</td>\n",
       "    </tr>\n",
       "    <tr>\n",
       "      <th>37</th>\n",
       "      <td>0.014</td>\n",
       "    </tr>\n",
       "    <tr>\n",
       "      <th>42</th>\n",
       "      <td>0.013</td>\n",
       "    </tr>\n",
       "    <tr>\n",
       "      <th>6</th>\n",
       "      <td>0.013</td>\n",
       "    </tr>\n",
       "    <tr>\n",
       "      <th>61</th>\n",
       "      <td>0.013</td>\n",
       "    </tr>\n",
       "    <tr>\n",
       "      <th>74</th>\n",
       "      <td>0.012</td>\n",
       "    </tr>\n",
       "    <tr>\n",
       "      <th>62</th>\n",
       "      <td>0.012</td>\n",
       "    </tr>\n",
       "    <tr>\n",
       "      <th>72</th>\n",
       "      <td>0.012</td>\n",
       "    </tr>\n",
       "    <tr>\n",
       "      <th>87</th>\n",
       "      <td>0.012</td>\n",
       "    </tr>\n",
       "    <tr>\n",
       "      <th>86</th>\n",
       "      <td>0.011</td>\n",
       "    </tr>\n",
       "    <tr>\n",
       "      <th>34</th>\n",
       "      <td>0.010</td>\n",
       "    </tr>\n",
       "    <tr>\n",
       "      <th>64</th>\n",
       "      <td>0.008</td>\n",
       "    </tr>\n",
       "    <tr>\n",
       "      <th>63</th>\n",
       "      <td>0.008</td>\n",
       "    </tr>\n",
       "    <tr>\n",
       "      <th>65</th>\n",
       "      <td>0.008</td>\n",
       "    </tr>\n",
       "    <tr>\n",
       "      <th>67</th>\n",
       "      <td>0.008</td>\n",
       "    </tr>\n",
       "  </tbody>\n",
       "</table>\n",
       "</div>"
      ],
      "text/plain": [
       "         importance\n",
       "feature            \n",
       "98            0.027\n",
       "11            0.022\n",
       "24            0.020\n",
       "60            0.015\n",
       "50            0.015\n",
       "20            0.015\n",
       "37            0.014\n",
       "42            0.013\n",
       "6             0.013\n",
       "61            0.013\n",
       "74            0.012\n",
       "62            0.012\n",
       "72            0.012\n",
       "87            0.012\n",
       "86            0.011\n",
       "34            0.010\n",
       "64            0.008\n",
       "63            0.008\n",
       "65            0.008\n",
       "67            0.008"
      ]
     },
     "execution_count": 35,
     "metadata": {},
     "output_type": "execute_result"
    }
   ],
   "source": [
    "rfc_importances_top20"
   ]
  },
  {
   "cell_type": "code",
   "execution_count": null,
   "metadata": {
    "collapsed": true
   },
   "outputs": [],
   "source": [
    "#features index in list\n",
    "# subselect"
   ]
  },
  {
   "cell_type": "code",
   "execution_count": 46,
   "metadata": {
    "collapsed": true
   },
   "outputs": [],
   "source": [
    "top20_features = rfc_importances_top20[0:].values.tolist()"
   ]
  },
  {
   "cell_type": "code",
   "execution_count": 88,
   "metadata": {
    "collapsed": true
   },
   "outputs": [],
   "source": [
    "X_top20 = X[rfc_importances_top20.index]\n"
   ]
  },
  {
   "cell_type": "code",
   "execution_count": 15,
   "metadata": {},
   "outputs": [],
   "source": [
    "X_top20 = X[[\"98\",\"11\",\"24\",\"60\",\"50\",\"20\",\"37\",\"42\",\"6\",\"61\",\"74\",\"62\",\"72\",\"87\",\"86\",\"34\",\"64\",\"63\",\"65\",\"67\"]]"
   ]
  },
  {
   "cell_type": "code",
   "execution_count": null,
   "metadata": {
    "collapsed": true
   },
   "outputs": [],
   "source": []
  },
  {
   "cell_type": "code",
   "execution_count": 16,
   "metadata": {},
   "outputs": [
    {
     "name": "stdout",
     "output_type": "stream",
     "text": [
      "Training set has 8000 samples.\n",
      "Testing set has 2000 samples.\n"
     ]
    }
   ],
   "source": [
    "X_train, X_test, y_train, y_test = train_test_split(X_top20, y, test_size=0.2 , random_state=0)\n",
    "\n",
    "print(\"Training set has {} samples.\".format(X_train.shape[0]))\n",
    "print(\"Testing set has {} samples.\".format(X_test.shape[0]))"
   ]
  },
  {
   "cell_type": "code",
   "execution_count": 17,
   "metadata": {
    "collapsed": true
   },
   "outputs": [],
   "source": [
    "#drop = [81, 112, 113, 119]"
   ]
  },
  {
   "cell_type": "code",
   "execution_count": 18,
   "metadata": {},
   "outputs": [
    {
     "data": {
      "text/plain": [
       "(8000, 20)"
      ]
     },
     "execution_count": 18,
     "metadata": {},
     "output_type": "execute_result"
    }
   ],
   "source": [
    "X_train.shape"
   ]
  },
  {
   "cell_type": "code",
   "execution_count": 21,
   "metadata": {
    "collapsed": true
   },
   "outputs": [],
   "source": [
    "rfc = RandomForestClassifier()"
   ]
  },
  {
   "cell_type": "code",
   "execution_count": 22,
   "metadata": {},
   "outputs": [],
   "source": [
    "pipe_rand = Pipeline([ (\"clf\", rfc)])"
   ]
  },
  {
   "cell_type": "code",
   "execution_count": 24,
   "metadata": {},
   "outputs": [],
   "source": [
    "from catboost import CatBoostClassifier\n",
    "\n",
    "\n",
    "rand_params = [\n",
    "    {\n",
    "        \"clf\": [XGBClassifier()],\n",
    "        #\"clf__learning_rate\": np.around(np.linspace(0.01, 0.08, 15), decimals=3),\n",
    "        \"clf__n_estimators\": [100, 200], #np.linspace(50, 1200).astype(int),\n",
    "        \"clf__max_depth\": range(2, 10),\n",
    "        \"clf__min_child_weight\": [0, 1],\n",
    "    },\n",
    "    {\n",
    "        \"clf\": [AdaBoostClassifier()],\n",
    "        \"clf__n_estimators\": [100, 200], # np.linspace(25, 600).astype(int),\n",
    "        \"clf__learning_rate\": np.around(np.linspace(0.01, 1, 15), decimals=2),\n",
    "    },\n",
    "    {\n",
    "        \"clf\": [CatBoostClassifier()],\n",
    "        #\"clf__learning_rate\": np.around(np.linspace(0.01, 1, 15), decimals=2),\n",
    "        \"clf__depth\": range(2, 10),\n",
    "        \"clf__l2_leaf_reg\": range(\n",
    "            1, 9, 2\n",
    "        ), \n",
    "    },\n",
    "    {\n",
    "        \"clf\": [RandomForestClassifier()],\n",
    "        \"clf__n_estimators\": [100, 200], #list(range(50, 950, 100)),\n",
    "        \"clf__max_depth\": [None, 1, 2, 5, 7, 10, 15, 25, 40],\n",
    "    },\n",
    "]"
   ]
  },
  {
   "cell_type": "code",
   "execution_count": null,
   "metadata": {},
   "outputs": [
    {
     "name": "stdout",
     "output_type": "stream",
     "text": [
      "Fitting 4 folds for each of 16 candidates, totalling 64 fits\n"
     ]
    },
    {
     "name": "stderr",
     "output_type": "stream",
     "text": [
      "[Parallel(n_jobs=-1)]: Using backend LokyBackend with 4 concurrent workers.\n",
      "[Parallel(n_jobs=-1)]: Done  42 tasks      | elapsed: 24.6min\n"
     ]
    }
   ],
   "source": [
    "randsearch_cv = RandomizedSearchCV(\n",
    "    pipe_rand, rand_params, n_iter=16, cv=4, scoring=\"f1_macro\", n_jobs=-1, verbose=1\n",
    ")\n",
    "randsearch_cv.fit(X_train, y_train)"
   ]
  },
  {
   "cell_type": "code",
   "execution_count": 64,
   "metadata": {},
   "outputs": [
    {
     "data": {
      "text/plain": [
       "{'feat_select__k': 50,\n",
       " 'clf__l2_leaf_reg': 5,\n",
       " 'clf__depth': 8,\n",
       " 'clf': <catboost.core.CatBoostClassifier at 0x120fccf70>}"
      ]
     },
     "execution_count": 64,
     "metadata": {},
     "output_type": "execute_result"
    }
   ],
   "source": [
    "randsearch_cv.best_params_"
   ]
  },
  {
   "cell_type": "code",
   "execution_count": 65,
   "metadata": {},
   "outputs": [
    {
     "data": {
      "text/plain": [
       "0.5979108676671562"
      ]
     },
     "execution_count": 65,
     "metadata": {},
     "output_type": "execute_result"
    }
   ],
   "source": [
    "randsearch_cv.best_score_"
   ]
  },
  {
   "cell_type": "code",
   "execution_count": 66,
   "metadata": {},
   "outputs": [
    {
     "data": {
      "text/plain": [
       "array([1.05227447, 0.89610194, 1.75486407, 1.03140622, 1.09602501,\n",
       "       6.48673327, 1.08470906, 0.90804695, 0.92854911, 5.02891688,\n",
       "       5.67778291, 0.8486508 , 1.16940543, 0.9340322 , 2.02196446,\n",
       "       1.09226573, 1.06450309, 5.54579927, 0.94432181, 0.91179221,\n",
       "       1.01712855, 4.78770544, 1.28991892, 1.02804647, 5.3732648 ,\n",
       "       3.95924984, 2.4248237 , 1.54024946, 1.06171097, 0.98434547,\n",
       "       4.27049467, 0.76497055, 3.8924099 , 0.90210005, 0.6860754 ,\n",
       "       1.07706564, 3.92746133, 2.58722184, 0.98422632, 0.92376254,\n",
       "       7.4028904 , 0.9714982 , 1.0010565 , 0.91207585, 0.96427659,\n",
       "       0.82126615, 0.9576942 , 0.99442527, 0.80137995, 1.21306012])"
      ]
     },
     "execution_count": 66,
     "metadata": {},
     "output_type": "execute_result"
    }
   ],
   "source": [
    "# importance is the coefficient of the selected features. \n",
    "# it indicate how significant the features will are during prediction.\n",
    "importances = randsearch_cv.best_estimator_.named_steps['clf'].feature_importances_\n",
    "importances"
   ]
  },
  {
   "cell_type": "code",
   "execution_count": 68,
   "metadata": {},
   "outputs": [
    {
     "data": {
      "text/html": [
       "<div>\n",
       "<style scoped>\n",
       "    .dataframe tbody tr th:only-of-type {\n",
       "        vertical-align: middle;\n",
       "    }\n",
       "\n",
       "    .dataframe tbody tr th {\n",
       "        vertical-align: top;\n",
       "    }\n",
       "\n",
       "    .dataframe thead th {\n",
       "        text-align: right;\n",
       "    }\n",
       "</style>\n",
       "<table border=\"1\" class=\"dataframe\">\n",
       "  <thead>\n",
       "    <tr style=\"text-align: right;\">\n",
       "      <th></th>\n",
       "      <th>columns</th>\n",
       "      <th>selected</th>\n",
       "    </tr>\n",
       "  </thead>\n",
       "  <tbody>\n",
       "    <tr>\n",
       "      <th>0</th>\n",
       "      <td>0</td>\n",
       "      <td>True</td>\n",
       "    </tr>\n",
       "    <tr>\n",
       "      <th>1</th>\n",
       "      <td>1</td>\n",
       "      <td>True</td>\n",
       "    </tr>\n",
       "    <tr>\n",
       "      <th>2</th>\n",
       "      <td>2</td>\n",
       "      <td>True</td>\n",
       "    </tr>\n",
       "    <tr>\n",
       "      <th>3</th>\n",
       "      <td>3</td>\n",
       "      <td>True</td>\n",
       "    </tr>\n",
       "    <tr>\n",
       "      <th>4</th>\n",
       "      <td>4</td>\n",
       "      <td>True</td>\n",
       "    </tr>\n",
       "    <tr>\n",
       "      <th>...</th>\n",
       "      <td>...</td>\n",
       "      <td>...</td>\n",
       "    </tr>\n",
       "    <tr>\n",
       "      <th>115</th>\n",
       "      <td>115</td>\n",
       "      <td>False</td>\n",
       "    </tr>\n",
       "    <tr>\n",
       "      <th>116</th>\n",
       "      <td>116</td>\n",
       "      <td>True</td>\n",
       "    </tr>\n",
       "    <tr>\n",
       "      <th>117</th>\n",
       "      <td>117</td>\n",
       "      <td>False</td>\n",
       "    </tr>\n",
       "    <tr>\n",
       "      <th>118</th>\n",
       "      <td>118</td>\n",
       "      <td>False</td>\n",
       "    </tr>\n",
       "    <tr>\n",
       "      <th>119</th>\n",
       "      <td>119</td>\n",
       "      <td>False</td>\n",
       "    </tr>\n",
       "  </tbody>\n",
       "</table>\n",
       "<p>120 rows × 2 columns</p>\n",
       "</div>"
      ],
      "text/plain": [
       "    columns  selected\n",
       "0         0      True\n",
       "1         1      True\n",
       "2         2      True\n",
       "3         3      True\n",
       "4         4      True\n",
       "..      ...       ...\n",
       "115     115     False\n",
       "116     116      True\n",
       "117     117     False\n",
       "118     118     False\n",
       "119     119     False\n",
       "\n",
       "[120 rows x 2 columns]"
      ]
     },
     "execution_count": 68,
     "metadata": {},
     "output_type": "execute_result"
    }
   ],
   "source": [
    "# shows all feature status.\n",
    "# True: indicates that the feature is selected\n",
    "# False:\n",
    "selected_features = pd.DataFrame()\n",
    "selected_features['columns'] = list(X.columns)\n",
    "selected_features['selected']  = list(randsearch_cv.best_estimator_.named_steps['feat_select'].get_support())\n",
    "selected_features"
   ]
  },
  {
   "cell_type": "code",
   "execution_count": 70,
   "metadata": {},
   "outputs": [
    {
     "data": {
      "text/plain": [
       "Index(['0', '1', '2', '3', '4', '11', '13', '15', '18', '20', '24', '26', '27',\n",
       "       '33', '34', '39', '41', '42', '43', '45', '48', '50', '53', '57', '60',\n",
       "       '61', '62', '63', '65', '70', '72', '73', '74', '77', '79', '83', '86',\n",
       "       '87', '88', '90', '98', '100', '101', '103', '105', '108', '109', '112',\n",
       "       '113', '116'],\n",
       "      dtype='object')"
      ]
     },
     "execution_count": 70,
     "metadata": {},
     "output_type": "execute_result"
    }
   ],
   "source": [
    "# all features selected for prediction\n",
    "selected_features = X.columns[randsearch_cv.best_estimator_.named_steps['feat_select'].get_support()]\n",
    "selected_features"
   ]
  },
  {
   "cell_type": "code",
   "execution_count": 71,
   "metadata": {},
   "outputs": [
    {
     "data": {
      "image/png": "[encoded data removed]",
      "text/plain": [
       "<Figure size 1080x504 with 1 Axes>"
      ]
     },
     "metadata": {
      "needs_background": "light"
     },
     "output_type": "display_data"
    }
   ],
   "source": [
    "feat_importances = pd.Series(importances, index=selected_features)\n",
    "feat_importances.nlargest(10).plot(kind='bar', rot=90, figsize=(15,7));"
   ]
  },
  {
   "cell_type": "code",
   "execution_count": 79,
   "metadata": {
    "collapsed": true
   },
   "outputs": [],
   "source": [
    "k_option = [40, 50, 60] "
   ]
  },
  {
   "cell_type": "code",
   "execution_count": 80,
   "metadata": {
    "collapsed": true
   },
   "outputs": [],
   "source": [
    "rand_params = [\n",
    "    {\n",
    "        \"feat_select__k\": k_option,\n",
    "        \"clf\": [CatBoostClassifier()],\n",
    "        \"clf__depth\": [6,8,10],\n",
    "        \"clf__l2_leaf_reg\": [3,5,7], \n",
    "    },\n",
    "]"
   ]
  },
  {
   "cell_type": "code",
   "execution_count": 81,
   "metadata": {},
   "outputs": [
    {
     "data": {
      "text/plain": [
       "{'feat_select__k': 50,\n",
       " 'clf__l2_leaf_reg': 5,\n",
       " 'clf__depth': 8,\n",
       " 'clf': <catboost.core.CatBoostClassifier at 0x120fccf70>}"
      ]
     },
     "execution_count": 81,
     "metadata": {},
     "output_type": "execute_result"
    }
   ],
   "source": [
    "randsearch_cv.best_params_"
   ]
  }
 ],
 "metadata": {
  "kernelspec": {
   "display_name": "Python 3",
   "language": "python",
   "name": "python3"
  },
  "language_info": {
   "codemirror_mode": {
    "name": "ipython",
    "version": 3
   },
   "file_extension": ".py",
   "mimetype": "text/x-python",
   "name": "python",
   "nbconvert_exporter": "python",
   "pygments_lexer": "ipython3",
   "version": "3.7.6"
  }
 },
 "nbformat": 4,
 "nbformat_minor": 2
}
